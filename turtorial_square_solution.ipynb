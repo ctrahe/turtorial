{
 "cells": [
  {
   "cell_type": "markdown",
   "metadata": {},
   "source": [
    "# Drawing a square with turtle"
   ]
  },
  {
   "cell_type": "markdown",
   "metadata": {},
   "source": [
    "## Draw a square\n",
    "```\n",
    "turtle.forward(100)\n",
    "turtle.left(90)\n",
    "...\n",
    "```"
   ]
  },
  {
   "cell_type": "code",
   "execution_count": null,
   "metadata": {},
   "outputs": [],
   "source": [
    "#!/usr/bin/env python2\n",
    "import turtle\n",
    "\n",
    "# Draw a square\n",
    "turtle.forward(100)\n",
    "turtle.left(90)\n",
    "turtle.forward(100)\n",
    "turtle.left(90)\n",
    "turtle.forward(100)\n",
    "turtle.left(90)\n",
    "turtle.forward(100)\n",
    "turtle.left(90)"
   ]
  },
  {
   "cell_type": "markdown",
   "metadata": {},
   "source": [
    "## Write a function which draws a square\n",
    "```\n",
    "def my_descriptive_function_name(input):\n",
    "    print(input)\n",
    "\n",
    "# call the function\n",
    "my_descriptive_function_name(\"Hello World!\")\n",
    "```"
   ]
  },
  {
   "cell_type": "code",
   "execution_count": 4,
   "metadata": {},
   "outputs": [],
   "source": [
    "#!/usr/bin/env python2\n",
    "import turtle\n",
    "\n",
    "# Function to draw a square, default size is 100.\n",
    "def draw_square(size=100):\n",
    "    turtle.forward(size)\n",
    "    turtle.left(90)\n",
    "    turtle.forward(size)\n",
    "    turtle.left(90)\n",
    "    turtle.forward(size)\n",
    "    turtle.left(90)\n",
    "    turtle.forward(size)\n",
    "    turtle.left(90)\n",
    "\n",
    "\n",
    "# Use default value:\n",
    "draw_square()\n",
    "# Pass own value as argument:\n",
    "draw_square(123)\n",
    "# Pass own value as keyword argument:\n",
    "draw_square(150)"
   ]
  },
  {
   "cell_type": "markdown",
   "metadata": {},
   "source": [
    "## For-loops and ranges\n",
    "```\n",
    "for x in range(4):\n",
    "    print(x)\n",
    "```"
   ]
  },
  {
   "cell_type": "code",
   "execution_count": 3,
   "metadata": {},
   "outputs": [],
   "source": [
    "#!/usr/bin/env python2\n",
    "import turtle\n",
    "\n",
    "# Draw a square, default size is 100.\n",
    "def draw_square(size=100):\n",
    "    for x in range(4):\n",
    "        turtle.forward(size)\n",
    "        turtle.left(90)\n",
    "\n",
    "\n",
    "draw_square(200)"
   ]
  }
 ],
 "metadata": {
  "kernelspec": {
   "display_name": "Python 2",
   "language": "python",
   "name": "python2"
  },
  "language_info": {
   "codemirror_mode": {
    "name": "ipython",
    "version": 2
   },
   "file_extension": ".py",
   "mimetype": "text/x-python",
   "name": "python",
   "nbconvert_exporter": "python",
   "pygments_lexer": "ipython2",
   "version": "2.7.10"
  }
 },
 "nbformat": 4,
 "nbformat_minor": 2
}
