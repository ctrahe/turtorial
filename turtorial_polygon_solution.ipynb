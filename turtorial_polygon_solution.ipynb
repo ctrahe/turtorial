{
 "cells": [
  {
   "cell_type": "markdown",
   "metadata": {},
   "source": [
    "# Draw a polygon"
   ]
  },
  {
   "cell_type": "markdown",
   "metadata": {},
   "source": [
    "- What is a polygon?\n",
    "- Give a default size\n",
    "- How many degrees must the turtle turn in total?\n"
   ]
  },
  {
   "cell_type": "code",
   "execution_count": 1,
   "metadata": {},
   "outputs": [],
   "source": [
    "#!/usr/bin/env python2\n",
    "import turtle\n",
    "\n",
    "# Draw a polygon, default is a square of size 100.\n",
    "def draw_polygon(length=100, sides=4):\n",
    "    for side in range(sides):\n",
    "        turtle.forward(length)\n",
    "        turtle.left(360 / sides)\n",
    "\n",
    "# Default values.\n",
    "draw_polygon()\n",
    "# A small triangle\n",
    "draw_polygon(length=50, sides=3)\n",
    "# Draw an octogon\n",
    "draw_polygon(sides=8)"
   ]
  }
 ],
 "metadata": {
  "kernelspec": {
   "display_name": "Python 2",
   "language": "python",
   "name": "python2"
  },
  "language_info": {
   "codemirror_mode": {
    "name": "ipython",
    "version": 2
   },
   "file_extension": ".py",
   "mimetype": "text/x-python",
   "name": "python",
   "nbconvert_exporter": "python",
   "pygments_lexer": "ipython2",
   "version": "2.7.10"
  }
 },
 "nbformat": 4,
 "nbformat_minor": 2
}
